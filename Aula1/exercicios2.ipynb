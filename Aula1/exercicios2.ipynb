{
 "cells": [
  {
   "cell_type": "code",
   "execution_count": 1,
   "metadata": {},
   "outputs": [],
   "source": [
    "arts = [{'chaveCit': 'RHA2008', 'titulo': 'Álgebra Documental', \n",
    "        'autores': [('jcr', 'José Carlos Ramalho'), ('prh', 'Pedro Rangel Henriques'), ('jj', 'José João Almeida')], \n",
    "        'ano': 2008, 'local': 'Twente - Holanda'}, \n",
    "    {'chaveCit': 'RHA1998', 'titulo': 'Utilização do email pedagogicamente', \n",
    "        'autores': [('jcr', 'José Carlos Ramalho'), ('prh', 'Pedro Rangel Henriques'), ('jj', \n",
    "        'José João Almeida')], 'ano': 1999, 'local': 'Universidade do Minho'}]"
   ]
  },
  {
   "cell_type": "code",
   "execution_count": null,
   "metadata": {},
   "outputs": [],
   "source": [
    "def guardarBD(bd):\n",
    "    f = open(\"PL2022pubs2.csv\", \"w\", encoding=\"utf-8\")\n",
    "    for pub in bd;\n",
    "\n"
   ]
  }
 ],
 "metadata": {
  "interpreter": {
   "hash": "916dbcbb3f70747c44a77c7bcd40155683ae19c65e1c03b4aa3499c5328201f1"
  },
  "kernelspec": {
   "display_name": "Python 3.8.10 64-bit",
   "language": "python",
   "name": "python3"
  },
  "language_info": {
   "codemirror_mode": {
    "name": "ipython",
    "version": 3
   },
   "file_extension": ".py",
   "mimetype": "text/x-python",
   "name": "python",
   "nbconvert_exporter": "python",
   "pygments_lexer": "ipython3",
   "version": "3.8.10"
  },
  "orig_nbformat": 4
 },
 "nbformat": 4,
 "nbformat_minor": 2
}
