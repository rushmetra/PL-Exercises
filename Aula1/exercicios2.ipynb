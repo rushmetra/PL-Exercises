{
 "cells": [
  {
   "cell_type": "code",
   "execution_count": 3,
   "metadata": {},
   "outputs": [],
   "source": [
    "arts = [{'chaveCit': 'RHA2008', 'titulo': 'Álgebra Documental', \n",
    "        'autores': [('jcr', 'José Carlos Ramalho'), ('prh', 'Pedro Rangel Henriques'), ('jj', 'José João Almeida')], \n",
    "        'ano': 2008, 'local': 'Twente - Holanda'}, \n",
    "    {'chaveCit': 'RHA1998', 'titulo': 'Utilização do email pedagogicamente', \n",
    "        'autores': [('jcr', 'José Carlos Ramalho'), ('prh', 'Pedro Rangel Henriques'), ('jj', \n",
    "        'José João Almeida')], 'ano': 1999, 'local': 'Universidade do Minho'}]"
   ]
  },
  {
   "cell_type": "code",
   "execution_count": 4,
   "metadata": {},
   "outputs": [],
   "source": [
    "def guardarBD(bd):\n",
    "    RS = \"\\n\"\n",
    "    FS = \";\"\n",
    "    AFS = \",\"\n",
    "    AS = \"#\"\n",
    "    f = open(\"PL2022pubs2.csv\", \"w\", encoding=\"utf-8\")\n",
    "    for pub in bd:\n",
    "        reg = \"\"\n",
    "        reg = pub['chaveCit'] + FS + pub['titulo'] + FS\n",
    "        autores = \"\"\n",
    "        for a in pub['autores']:\n",
    "            autores = autores + a[0] + AFS + a[1] + AS\n",
    "        reg = reg + autores[:-1] + FS\n",
    "        reg = reg + str(pub['ano']) + FS + pub['local'] + RS\n",
    "        f.write(reg)\n"
   ]
  },
  {
   "cell_type": "code",
   "execution_count": 5,
   "metadata": {},
   "outputs": [],
   "source": [
    "def lerBD(fnome):\n",
    "    bd = []\n",
    "    RS = \"\\n\"\n",
    "    FS = \";\"\n",
    "    AFS = \",\"\n",
    "    AS = \"#\"\n",
    "    f = open(fnome, encoding=\"utf-8\")\n",
    "    for linha in f:\n",
    "        nova = linha.replace(\"\\n\",\"\")\n",
    "        campos = nova.split(FS)\n",
    "        reg = {}\n",
    "        reg['chaveCit'] = campos[0]\n",
    "        reg['titulo'] = campos[1]\n",
    "        reg['ano'] = campos[3]\n",
    "        reg['local'] = campos[3]\n",
    "        autores = campos[2].split(AS)\n",
    "        listaAutores = []\n",
    "        for a in autores:\n",
    "            camposAutor = a.split(AFS)\n",
    "            listaAutores.append((camposAutor[0],camposAutor[1]))\n",
    "        reg['autores'] = listaAutores        \n",
    "        bd.append(reg)\n",
    "    return bd"
   ]
  },
  {
   "cell_type": "code",
   "execution_count": 6,
   "metadata": {},
   "outputs": [
    {
     "data": {
      "text/plain": [
       "[{'chaveCit': 'RHA2008',\n",
       "  'titulo': 'Álgebra Documental',\n",
       "  'ano': '2008',\n",
       "  'local': '2008',\n",
       "  'autores': [('jcr', 'José Carlos Ramalho'),\n",
       "   ('prh', 'Pedro Rangel Henriques'),\n",
       "   ('jj', 'José João Almeida')]},\n",
       " {'chaveCit': 'RHA1998',\n",
       "  'titulo': 'Utilização do email pedagogicamente',\n",
       "  'ano': '1999',\n",
       "  'local': '1999',\n",
       "  'autores': [('jcr', 'José Carlos Ramalho'),\n",
       "   ('prh', 'Pedro Rangel Henriques'),\n",
       "   ('jj', 'José João Almeida')]}]"
      ]
     },
     "execution_count": 6,
     "metadata": {},
     "output_type": "execute_result"
    }
   ],
   "source": [
    "guardarBD(arts)"
   ]
  },
  {
   "cell_type": "code",
   "execution_count": 7,
   "metadata": {},
   "outputs": [
    {
     "name": "stdout",
     "output_type": "stream",
     "text": [
      "[{'chaveCit': 'RHA2008', 'titulo': 'Álgebra Documental', 'ano': '2008', 'local': '2008', 'autores': [('jcr', 'José Carlos Ramalho'), ('prh', 'Pedro Rangel Henriques'), ('jj', 'José João Almeida')]}, {'chaveCit': 'RHA1998', 'titulo': 'Utilização do email pedagogicamente', 'ano': '1999', 'local': '1999', 'autores': [('jcr', 'José Carlos Ramalho'), ('prh', 'Pedro Rangel Henriques'), ('jj', 'José João Almeida')]}]\n"
     ]
    }
   ],
   "source": [
    "novaBD = lerBD(\"PL2022pubs2.csv\")\n",
    "print(novaBD)"
   ]
  },
  {
   "cell_type": "code",
   "execution_count": 11,
   "metadata": {},
   "outputs": [],
   "source": [
    "def contaLinhasChars(fnome):\n",
    "    f = open(\"alunos.csv\")\n",
    "    nlinhas = 0\n",
    "    nchars = 0\n",
    "    for linha in f:\n",
    "        nlinhas = nlinhas + 1\n",
    "        nchars = nchars + len(linha)\n",
    "    return (nchars, nlinhas)"
   ]
  },
  {
   "cell_type": "code",
   "execution_count": null,
   "metadata": {},
   "outputs": [],
   "source": [
    "def mediaSup(fnome):\n",
    "    f = open(fnome)\n",
    "    nr_alunos = 0\n",
    "    for linha in f:\n",
    "\n",
    "        \n",
    "    return nr_alunos\n",
    "\n"
   ]
  },
  {
   "cell_type": "code",
   "execution_count": null,
   "metadata": {},
   "outputs": [],
   "source": [
    "import json\n",
    "\n",
    "def converteCSVparaJson(fnome):\n",
    "\n",
    "    data = {}\n",
    "    RS = \"\\n\"\n",
    "    FS = \";\"\n",
    "\n",
    "    f = open(fnome,'r', encoding=\"utf-8\")\n",
    "\n",
    "    for colunas in f:\n",
    "        chave = ''\n",
    "        chave = colunas['idAluno'] + FS + colunas['nome'] + FS + colunas['curso'] + FS + colunas['tpc1'] + FS + colunas['tpc2'] + FS + colunas['tpc3'] + FS + colunas['tpc4'] + RS\n",
    "        data[chave] = colunas\n",
    "\n",
    "    fjson = open(f, 'w', encoding='utf-8') as jsonf:\n",
    "        jsonf.write(json.dumps(data, indent=4))\n",
    "\n"
   ]
  },
  {
   "cell_type": "code",
   "execution_count": 12,
   "metadata": {},
   "outputs": [
    {
     "ename": "FileNotFoundError",
     "evalue": "[Errno 2] No such file or directory: 'teste.json'",
     "output_type": "error",
     "traceback": [
      "\u001b[0;31m---------------------------------------------------------------------------\u001b[0m",
      "\u001b[0;31mFileNotFoundError\u001b[0m                         Traceback (most recent call last)",
      "\u001b[1;32m/home/rgmonteiro/Desktop/3ano2sem/PL/PL-Exercises/Aula1/exercicios2.ipynb Cell 9'\u001b[0m in \u001b[0;36m<module>\u001b[0;34m\u001b[0m\n\u001b[1;32m      <a href='vscode-notebook-cell:/home/rgmonteiro/Desktop/3ano2sem/PL/PL-Exercises/Aula1/exercicios2.ipynb#ch0000007?line=0'>1</a>\u001b[0m \u001b[39mimport\u001b[39;00m \u001b[39mjson\u001b[39;00m\n\u001b[0;32m----> <a href='vscode-notebook-cell:/home/rgmonteiro/Desktop/3ano2sem/PL/PL-Exercises/Aula1/exercicios2.ipynb#ch0000007?line=2'>3</a>\u001b[0m fjson \u001b[39m=\u001b[39m \u001b[39mopen\u001b[39;49m(\u001b[39m\"\u001b[39;49m\u001b[39mteste.json\u001b[39;49m\u001b[39m\"\u001b[39;49m)\n\u001b[1;32m      <a href='vscode-notebook-cell:/home/rgmonteiro/Desktop/3ano2sem/PL/PL-Exercises/Aula1/exercicios2.ipynb#ch0000007?line=3'>4</a>\u001b[0m mybd \u001b[39m=\u001b[39m json\u001b[39m.\u001b[39mload(fjson)\n\u001b[1;32m      <a href='vscode-notebook-cell:/home/rgmonteiro/Desktop/3ano2sem/PL/PL-Exercises/Aula1/exercicios2.ipynb#ch0000007?line=4'>5</a>\u001b[0m \u001b[39mprint\u001b[39m(mybd)\n",
      "\u001b[0;31mFileNotFoundError\u001b[0m: [Errno 2] No such file or directory: 'teste.json'"
     ]
    }
   ],
   "source": [
    "import json\n",
    "\n",
    "fjson = open(\"teste.json\")\n",
    "mybd = json.load(fjson)\n",
    "print(mybd)"
   ]
  }
 ],
 "metadata": {
  "interpreter": {
   "hash": "916dbcbb3f70747c44a77c7bcd40155683ae19c65e1c03b4aa3499c5328201f1"
  },
  "kernelspec": {
   "display_name": "Python 3.8.10 64-bit",
   "language": "python",
   "name": "python3"
  },
  "language_info": {
   "codemirror_mode": {
    "name": "ipython",
    "version": 3
   },
   "file_extension": ".py",
   "mimetype": "text/x-python",
   "name": "python",
   "nbconvert_exporter": "python",
   "pygments_lexer": "ipython3",
   "version": "3.8.10"
  },
  "orig_nbformat": 4
 },
 "nbformat": 4,
 "nbformat_minor": 2
}
